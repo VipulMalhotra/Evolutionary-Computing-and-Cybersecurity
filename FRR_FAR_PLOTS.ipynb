{
 "cells": [
  {
   "cell_type": "code",
   "execution_count": 1,
   "metadata": {},
   "outputs": [],
   "source": [
    "import numpy as np\n",
    "import pandas as pd\n",
    "from sklearn.metrics import roc_curve\n",
    "from scipy.spatial.distance import cityblock, mahalanobis, euclidean\n",
    "from array import array\n",
    "import matplotlib.pyplot as plt"
   ]
  },
  {
   "cell_type": "code",
   "execution_count": 3,
   "metadata": {},
   "outputs": [],
   "source": [
    "#To calculate the equal-error rate, the threshold is chosen so that the detector’s miss and false-alarm rates are equal\n",
    "def evaluateEER(user_scores, imposter_scores):\n",
    "    labels = [0]*len(user_scores) + [1]*len(imposter_scores)\n",
    "    fpr, tpr, thresholds = roc_curve(labels, user_scores + imposter_scores)\n",
    "    missrates = 1 - tpr #The hit rate is the frequency with which impostors are detected (i.e., 1 − miss rate), frr\n",
    "    farates = fpr  #false-alarm rate is the frequency with which genuine users are mistakenly detected as impostors,far\n",
    "    return np.mean(missrates),np.mean(farates)\n",
    "\n",
    "class EuclideanDetector:    \n",
    "    def __init__(self, subjects):\n",
    "        self.user_scores = []\n",
    "        self.imposter_scores = []\n",
    "        self.mean_vector = []\n",
    "        self.subjects = subjects\n",
    "        \n",
    "    def training(self):\n",
    "        self.mean_vector = self.train.mean().values\n",
    "        self.std_vector = self.train.std().values\n",
    "        dropping_indices = []\n",
    "        \n",
    "        for i in range(self.train.shape[0]):\n",
    "            cur_score = euclidean(self.train.iloc[i].values, self.mean_vector)            \n",
    "            if (cur_score > 3 * self.std_vector).all() == True: dropping_indices.append(i)   \n",
    "                \n",
    "        self.train = self.train.drop(self.train.index[dropping_indices])\n",
    "        self.mean_vector = self.train.mean().values\n",
    "        \n",
    "    def testing(self):\n",
    "        for i in range(self.test_genuine.shape[0]):\n",
    "            cur_score = np.linalg.norm(self.test_genuine.iloc[i].values - self.mean_vector)\n",
    "            self.user_scores.append(cur_score)\n",
    "            \n",
    "        for i in range(self.test_imposter.shape[0]):\n",
    "            cur_score = np.linalg.norm(self.test_imposter.iloc[i].values - self.mean_vector)\n",
    "            self.imposter_scores.append(cur_score)\n",
    "    \n",
    "    def evaluate(self):\n",
    "        eers = []\n",
    "        \n",
    "        for subject in subjects:            \n",
    "            self.user_scores = []\n",
    "            self.imposter_scores = []\n",
    "    \n",
    "            # Consider current subject as genuine and rest as imposters\n",
    "            genuine_user_data = data.loc[data.subject == subject, \"H.period\":\"H.Return\"]\n",
    "            imposter_data = data.loc[data.subject != subject, :]\n",
    "    \n",
    "            # genuine user's first 200 time vectors for training\n",
    "            self.train = genuine_user_data[:200]\n",
    "    \n",
    "            # True set (200 records)\n",
    "            self.test_genuine = genuine_user_data[200:]\n",
    "    \n",
    "            # False set (250 records, 5 per imposter, 50 imposters in all)\n",
    "            self.test_imposter = imposter_data.groupby(\"subject\").head(10).loc[:, \"H.period\":\"H.Return\"]\n",
    "            \n",
    "            self.training()\n",
    "            \n",
    "            self.testing()\n",
    "    \n",
    "            eers.append(evaluateEER(self.user_scores, self.imposter_scores))\n",
    "        \n",
    "        return eers\n",
    "\n",
    "path = \"DSL-StrongPasswordData.csv\" \n",
    "dataframe = pd.read_csv(path)\n",
    "data = dataframe.loc[:, ~dataframe.columns.str.startswith('DD')]\n",
    "subjects = data[\"subject\"].unique()  \n",
    "# print (\"Average EER for Ecludian detector:\")\n",
    "array= EuclideanDetector(subjects).evaluate()\n",
    "subject = np.array(subjects)\n",
    "newDataFrame = pd.DataFrame(array, columns= ['FRR','FAR'])\n",
    "newDataFrame['Subject'] = subject\n",
    "newDataFrame=newDataFrame.reset_index()"
   ]
  },
  {
   "cell_type": "code",
   "execution_count": 4,
   "metadata": {},
   "outputs": [
    {
     "data": {
      "image/png": "[encoded data removed]",
      "text/plain": [
       "<Figure size 432x288 with 1 Axes>"
      ]
     },
     "metadata": {
      "needs_background": "light"
     },
     "output_type": "display_data"
    }
   ],
   "source": [
    "#for outliers analysis\n",
    "x=newDataFrame.loc[:,'index']\n",
    "y=newDataFrame.loc[:,'FRR']\n",
    "plt.xlim(0.001,51)\n",
    "plt.ylim(0.001,0.6)\n",
    "plt.scatter(x,y)\n",
    "\n",
    "plt.title('Imposter are not detected')\n",
    "plt.xlabel('subject')\n",
    "plt.ylabel('FRR')\n",
    "plt.show()\n"
   ]
  },
  {
   "cell_type": "code",
   "execution_count": 7,
   "metadata": {},
   "outputs": [
    {
     "data": {
      "image/png": "[encoded data removed]",
      "text/plain": [
       "<Figure size 432x288 with 1 Axes>"
      ]
     },
     "metadata": {
      "needs_background": "light"
     },
     "output_type": "display_data"
    }
   ],
   "source": [
    "#for outliers analysis\n",
    "x=newDataFrame.loc[:,'index']\n",
    "y=newDataFrame.loc[:,'FAR']\n",
    "plt.xlim(0.001,51)\n",
    "plt.ylim(0.001,0.7)\n",
    "plt.scatter(x,y)\n",
    "\n",
    "plt.title('Genuine users are misatakenly considered as Imposter')\n",
    "plt.xlabel('subject')\n",
    "plt.ylabel('FAR')\n",
    "plt.show()\n"
   ]
  }
 ],
 "metadata": {
  "kernelspec": {
   "display_name": "Python 3",
   "language": "python",
   "name": "python3"
  },
  "language_info": {
   "codemirror_mode": {
    "name": "ipython",
    "version": 3
   },
   "file_extension": ".py",
   "mimetype": "text/x-python",
   "name": "python",
   "nbconvert_exporter": "python",
   "pygments_lexer": "ipython3",
   "version": "3.7.3"
  }
 },
 "nbformat": 4,
 "nbformat_minor": 2
}
